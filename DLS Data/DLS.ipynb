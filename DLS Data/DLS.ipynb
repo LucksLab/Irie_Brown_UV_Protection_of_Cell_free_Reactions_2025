{
 "cells": [
  {
   "cell_type": "code",
   "execution_count": 1,
   "metadata": {
    "ExecuteTime": {
     "end_time": "2024-05-21T16:19:18.213258Z",
     "start_time": "2024-05-21T16:19:16.757953Z"
    }
   },
   "outputs": [],
   "source": [
    "import numpy as np\n",
    "import pandas as pd\n",
    "import matplotlib.pyplot as plt\n",
    "from glob import glob\n",
    "\n",
    "plt.rcParams[\"font.family\"] = \"Arial\""
   ]
  },
  {
   "cell_type": "code",
   "execution_count": 2,
   "metadata": {
    "ExecuteTime": {
     "end_time": "2024-05-21T16:19:18.243259Z",
     "start_time": "2024-05-21T16:19:18.230262Z"
    }
   },
   "outputs": [
    {
     "data": {
      "text/plain": [
       "['AMNP2_1823DHN.csv', 'Particles_Compiled_DLS.csv']"
      ]
     },
     "execution_count": 2,
     "metadata": {},
     "output_type": "execute_result"
    }
   ],
   "source": [
    "glob(\"*.csv\")"
   ]
  },
  {
   "cell_type": "code",
   "execution_count": 3,
   "metadata": {
    "ExecuteTime": {
     "end_time": "2024-05-21T16:19:18.304082Z",
     "start_time": "2024-05-21T16:19:18.260261Z"
    }
   },
   "outputs": [],
   "source": [
    "DLS = pd.read_csv('Particles_Compiled_DLS.csv')\n",
    "\n"
   ]
  },
  {
   "cell_type": "code",
   "execution_count": 4,
   "metadata": {
    "ExecuteTime": {
     "end_time": "2024-05-21T16:19:18.412918Z",
     "start_time": "2024-05-21T16:19:18.385924Z"
    },
    "scrolled": true
   },
   "outputs": [
    {
     "data": {
      "text/html": [
       "<div>\n",
       "<style scoped>\n",
       "    .dataframe tbody tr th:only-of-type {\n",
       "        vertical-align: middle;\n",
       "    }\n",
       "\n",
       "    .dataframe tbody tr th {\n",
       "        vertical-align: top;\n",
       "    }\n",
       "\n",
       "    .dataframe thead th {\n",
       "        text-align: right;\n",
       "    }\n",
       "</style>\n",
       "<table border=\"1\" class=\"dataframe\">\n",
       "  <thead>\n",
       "    <tr style=\"text-align: right;\">\n",
       "      <th></th>\n",
       "      <th>Radius (nm)</th>\n",
       "      <th>PDA</th>\n",
       "      <th>AMNP1</th>\n",
       "      <th>PDA.1</th>\n",
       "      <th>AMNP2</th>\n",
       "    </tr>\n",
       "  </thead>\n",
       "  <tbody>\n",
       "    <tr>\n",
       "      <th>0</th>\n",
       "      <td>0.024999</td>\n",
       "      <td>0.0</td>\n",
       "      <td>0.0</td>\n",
       "      <td>0.0</td>\n",
       "      <td>0.0</td>\n",
       "    </tr>\n",
       "    <tr>\n",
       "      <th>1</th>\n",
       "      <td>0.027083</td>\n",
       "      <td>0.0</td>\n",
       "      <td>0.0</td>\n",
       "      <td>0.0</td>\n",
       "      <td>0.0</td>\n",
       "    </tr>\n",
       "    <tr>\n",
       "      <th>2</th>\n",
       "      <td>0.029340</td>\n",
       "      <td>0.0</td>\n",
       "      <td>0.0</td>\n",
       "      <td>0.0</td>\n",
       "      <td>0.0</td>\n",
       "    </tr>\n",
       "    <tr>\n",
       "      <th>3</th>\n",
       "      <td>0.031786</td>\n",
       "      <td>0.0</td>\n",
       "      <td>0.0</td>\n",
       "      <td>0.0</td>\n",
       "      <td>0.0</td>\n",
       "    </tr>\n",
       "    <tr>\n",
       "      <th>4</th>\n",
       "      <td>0.034436</td>\n",
       "      <td>0.0</td>\n",
       "      <td>0.0</td>\n",
       "      <td>0.0</td>\n",
       "      <td>0.0</td>\n",
       "    </tr>\n",
       "    <tr>\n",
       "      <th>...</th>\n",
       "      <td>...</td>\n",
       "      <td>...</td>\n",
       "      <td>...</td>\n",
       "      <td>...</td>\n",
       "      <td>...</td>\n",
       "    </tr>\n",
       "    <tr>\n",
       "      <th>175</th>\n",
       "      <td>30401.700000</td>\n",
       "      <td>0.0</td>\n",
       "      <td>0.0</td>\n",
       "      <td>0.0</td>\n",
       "      <td>0.0</td>\n",
       "    </tr>\n",
       "    <tr>\n",
       "      <th>176</th>\n",
       "      <td>32935.800000</td>\n",
       "      <td>0.0</td>\n",
       "      <td>0.0</td>\n",
       "      <td>0.0</td>\n",
       "      <td>0.0</td>\n",
       "    </tr>\n",
       "    <tr>\n",
       "      <th>177</th>\n",
       "      <td>35681.200000</td>\n",
       "      <td>0.0</td>\n",
       "      <td>0.0</td>\n",
       "      <td>0.0</td>\n",
       "      <td>0.0</td>\n",
       "    </tr>\n",
       "    <tr>\n",
       "      <th>178</th>\n",
       "      <td>38655.500000</td>\n",
       "      <td>0.0</td>\n",
       "      <td>0.0</td>\n",
       "      <td>0.0</td>\n",
       "      <td>0.0</td>\n",
       "    </tr>\n",
       "    <tr>\n",
       "      <th>179</th>\n",
       "      <td>41877.700000</td>\n",
       "      <td>0.0</td>\n",
       "      <td>0.0</td>\n",
       "      <td>0.0</td>\n",
       "      <td>0.0</td>\n",
       "    </tr>\n",
       "  </tbody>\n",
       "</table>\n",
       "<p>180 rows × 5 columns</p>\n",
       "</div>"
      ],
      "text/plain": [
       "      Radius (nm)  PDA  AMNP1  PDA.1  AMNP2\n",
       "0        0.024999  0.0    0.0    0.0    0.0\n",
       "1        0.027083  0.0    0.0    0.0    0.0\n",
       "2        0.029340  0.0    0.0    0.0    0.0\n",
       "3        0.031786  0.0    0.0    0.0    0.0\n",
       "4        0.034436  0.0    0.0    0.0    0.0\n",
       "..            ...  ...    ...    ...    ...\n",
       "175  30401.700000  0.0    0.0    0.0    0.0\n",
       "176  32935.800000  0.0    0.0    0.0    0.0\n",
       "177  35681.200000  0.0    0.0    0.0    0.0\n",
       "178  38655.500000  0.0    0.0    0.0    0.0\n",
       "179  41877.700000  0.0    0.0    0.0    0.0\n",
       "\n",
       "[180 rows x 5 columns]"
      ]
     },
     "execution_count": 4,
     "metadata": {},
     "output_type": "execute_result"
    }
   ],
   "source": [
    "DLS"
   ]
  },
  {
   "cell_type": "code",
   "execution_count": 11,
   "metadata": {
    "ExecuteTime": {
     "end_time": "2024-05-21T16:20:56.673385Z",
     "start_time": "2024-05-21T16:20:55.976646Z"
    }
   },
   "outputs": [
    {
     "data": {
      "image/png": "[encoded data removed]",
      "text/plain": [
       "<Figure size 432x432 with 1 Axes>"
      ]
     },
     "metadata": {
      "needs_background": "light"
     },
     "output_type": "display_data"
    }
   ],
   "source": [
    "fig, ax = plt.subplots(figsize=(6,6))\n",
    "\n",
    "\n",
    "ax.plot(DLS[\"Radius (nm)\"], DLS[\"AMNP1\"],  label=\"AMNP-1\", linewidth=3, c= \"blue\")\n",
    "ax.plot(DLS[\"Radius (nm)\"], DLS[\"AMNP2\"], label=\"AMNP-2\",  linewidth=3, c=\"red\")\n",
    "ax.plot(DLS[\"Radius (nm)\"], DLS[\"PDA\"],  label=\"PDA\",  linewidth=3, c=\"green\")\n",
    "#plt.scatter(ABTS_s[\"Antioxidant\"], ABTS[\"PDA avg\"], label=\"PDA\", facecolors='orange', linewidth=2)\n",
    "\n",
    "ax.set_xlim([10,1000])\n",
    "plt.xscale(\"log\")\n",
    "#plt.ylim([-1,105])\n",
    "plt.ylabel(\"Intensity (%)\", fontsize=14, fontweight=\"bold\")\n",
    "plt.xlabel(\"Radius (nm)\",  fontsize=14, fontweight=\"bold\")\n",
    "\n",
    "plt.legend(fontsize=13, frameon=False, loc=\"upper left\")\n",
    "\n",
    "ax.tick_params(axis='both', which='major', labelsize=13)\n",
    "ax.tick_params(axis='both', which='minor', labelsize=13)\n",
    "\n",
    "\n",
    "\n",
    "ax.tick_params(width=1.5)\n",
    "plt.setp(ax.spines.values(), linewidth=1.5)\n",
    "\n",
    "ax.tick_params(which='both', width=1, labelsize=14)\n",
    "ax.tick_params(which='major', length=5)\n",
    "\n",
    "\n",
    "plt.savefig(\"DLS_NPs.png\", dpi=500, bbox_inches = \"tight\")"
   ]
  },
  {
   "cell_type": "code",
   "execution_count": 5,
   "metadata": {
    "ExecuteTime": {
     "end_time": "2024-05-21T16:19:20.994916Z",
     "start_time": "2024-05-21T16:19:20.969928Z"
    }
   },
   "outputs": [
    {
     "data": {
      "text/plain": [
       "0          0.024999\n",
       "1          0.027083\n",
       "2          0.029340\n",
       "3          0.031786\n",
       "4          0.034436\n",
       "           ...     \n",
       "175    30401.700000\n",
       "176    32935.800000\n",
       "177    35681.200000\n",
       "178    38655.500000\n",
       "179    41877.700000\n",
       "Name: Radius (nm), Length: 180, dtype: float64"
      ]
     },
     "execution_count": 5,
     "metadata": {},
     "output_type": "execute_result"
    }
   ],
   "source": [
    "DLS[\"Radius (nm)\"]"
   ]
  },
  {
   "cell_type": "code",
   "execution_count": 8,
   "metadata": {
    "ExecuteTime": {
     "end_time": "2024-05-21T16:19:31.172010Z",
     "start_time": "2024-05-21T16:19:30.493846Z"
    },
    "scrolled": true
   },
   "outputs": [
    {
     "data": {
      "image/png": "[encoded data removed]",
      "text/plain": [
       "<Figure size 360x360 with 1 Axes>"
      ]
     },
     "metadata": {
      "needs_background": "light"
     },
     "output_type": "display_data"
    }
   ],
   "source": [
    "fig, ax = plt.subplots(figsize=(5,5))\n",
    "\n",
    "\n",
    "ax.plot(DLS[\"Radius (nm)\"], DLS[\"AMNP1\"],  label=\"AMNP-1\", linewidth=3, c= \"blue\")\n",
    "ax.plot(DLS[\"Radius (nm)\"], DLS[\"AMNP2\"], label=\"AMNP-2\",  linewidth=3, c=\"red\")\n",
    "ax.plot(DLS[\"Radius (nm)\"], DLS[\"PDA\"],  label=\"PDA\",  linewidth=3, c=\"green\")\n",
    "#plt.scatter(ABTS_s[\"Antioxidant\"], ABTS[\"PDA avg\"], label=\"PDA\", facecolors='orange', linewidth=2)\n",
    "\n",
    "ax.set_xlim([10,1000])\n",
    "plt.xscale(\"log\")\n",
    "#plt.ylim([-1,105])\n",
    "plt.ylabel(\"Intensity (%)\", fontsize=18, fontweight=\"bold\")\n",
    "plt.xlabel(\"Radius (nm)\",  fontsize=18, fontweight=\"bold\")\n",
    "\n",
    "plt.legend(fontsize=14, frameon=False, loc=\"upper left\")\n",
    "\n",
    "ax.tick_params(axis='both', which='major', labelsize=13)\n",
    "ax.tick_params(axis='both', which='minor', labelsize=13)\n",
    "\n",
    "\n",
    "\n",
    "ax.tick_params(width=1.5)\n",
    "plt.setp(ax.spines.values(), linewidth=1.5)\n",
    "\n",
    "ax.tick_params(which='both', width=1, labelsize=14)\n",
    "ax.tick_params(which='major', length=5)\n",
    "\n",
    "\n",
    "plt.savefig(\"DLS_NPs.png\", dpi=500, bbox_inches = \"tight\")"
   ]
  },
  {
   "cell_type": "code",
   "execution_count": 9,
   "metadata": {
    "ExecuteTime": {
     "end_time": "2024-05-21T16:19:40.018616Z",
     "start_time": "2024-05-21T16:19:39.517648Z"
    }
   },
   "outputs": [
    {
     "data": {
      "image/png": "[encoded data removed]",
      "text/plain": [
       "<Figure size 360x360 with 1 Axes>"
      ]
     },
     "metadata": {
      "needs_background": "light"
     },
     "output_type": "display_data"
    }
   ],
   "source": [
    "fig, ax = plt.subplots(figsize=(5,5))\n",
    "\n",
    "\n",
    "ax.plot(DLS[\"Radius (nm)\"]*2, DLS[\"AMNP1\"],  label=\"AMNP-1\", linewidth=3, c= \"blue\")\n",
    "ax.plot(DLS[\"Radius (nm)\"]*2, DLS[\"AMNP2\"], label=\"AMNP-2\",  linewidth=3, c=\"red\")\n",
    "ax.plot(DLS[\"Radius (nm)\"]*2, DLS[\"PDA\"],  label=\"PDA\",  linewidth=3, c=\"green\")\n",
    "#plt.scatter(ABTS_s[\"Antioxidant\"], ABTS[\"PDA avg\"], label=\"PDA\", facecolors='orange', linewidth=2)\n",
    "\n",
    "ax.set_xlim([20,500])\n",
    "\n",
    "#plt.ylim([-1,105])\n",
    "plt.ylabel(\"Intensity (%)\", fontsize=18, fontweight=\"bold\")\n",
    "plt.xlabel(\"Diameter (nm)\",  fontsize=18, fontweight=\"bold\")\n",
    "\n",
    "plt.legend(fontsize=14, frameon=False, loc=\"upper left\")\n",
    "\n",
    "ax.tick_params(axis='both', which='major', labelsize=13)\n",
    "ax.tick_params(axis='both', which='minor', labelsize=13)\n",
    "\n",
    "\n",
    "\n",
    "ax.tick_params(width=1.5)\n",
    "plt.setp(ax.spines.values(), linewidth=1.5)\n",
    "\n",
    "ax.tick_params(which='both', width=1, labelsize=14)\n",
    "ax.tick_params(which='major', length=5)\n",
    "\n",
    "\n",
    "plt.savefig(\"DLS_NPs.png\", dpi=500, bbox_inches = \"tight\")"
   ]
  },
  {
   "cell_type": "code",
   "execution_count": null,
   "metadata": {},
   "outputs": [],
   "source": [
    "from matplotlib.ticker import (MultipleLocator, AutoMinorLocator)\n",
    "ax.xaxis.set_minor_locator(AutoMinorLocator())\n",
    "ax.yaxis.set_minor_locator(AutoMinorLocator())\n",
    "ax.tick_params(which='minor', length=3)\n",
    "\n",
    "ax.tick_params(which='both', width=1, labelsize=13)\n",
    "ax.tick_params(which='major', length=5)"
   ]
  }
 ],
 "metadata": {
  "kernelspec": {
   "display_name": "Python 3",
   "language": "python",
   "name": "python3"
  },
  "language_info": {
   "codemirror_mode": {
    "name": "ipython",
    "version": 3
   },
   "file_extension": ".py",
   "mimetype": "text/x-python",
   "name": "python",
   "nbconvert_exporter": "python",
   "pygments_lexer": "ipython3",
   "version": "3.8.5"
  },
  "varInspector": {
   "cols": {
    "lenName": 16,
    "lenType": 16,
    "lenVar": 40
   },
   "kernels_config": {
    "python": {
     "delete_cmd_postfix": "",
     "delete_cmd_prefix": "del ",
     "library": "var_list.py",
     "varRefreshCmd": "print(var_dic_list())"
    },
    "r": {
     "delete_cmd_postfix": ") ",
     "delete_cmd_prefix": "rm(",
     "library": "var_list.r",
     "varRefreshCmd": "cat(var_dic_list()) "
    }
   },
   "types_to_exclude": [
    "module",
    "function",
    "builtin_function_or_method",
    "instance",
    "_Feature"
   ],
   "window_display": false
  }
 },
 "nbformat": 4,
 "nbformat_minor": 5
}
